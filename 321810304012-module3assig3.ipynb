{
 "cells": [
  {
   "cell_type": "code",
   "execution_count": 1,
   "metadata": {},
   "outputs": [
    {
     "name": "stdout",
     "output_type": "stream",
     "text": [
      "xyc abz\n"
     ]
    }
   ],
   "source": [
    "def chars_mix_up(a, b):\n",
    "  new_a = b[:2] + a[2:]\n",
    "  new_b = a[:2] + b[2:]\n",
    "\n",
    "  return new_a + ' ' + new_b\n",
    "print(chars_mix_up('abc', 'xyz'))\n"
   ]
  },
  {
   "cell_type": "code",
   "execution_count": 2,
   "metadata": {},
   "outputs": [
    {
     "name": "stdout",
     "output_type": "stream",
     "text": [
      "Python Exercises\n",
      "\n",
      "Python Exercises\n"
     ]
    }
   ],
   "source": [
    "str1='Python Exercises\\n'\n",
    "print(str1)\n",
    "print(str1.rstrip())\n"
   ]
  },
  {
   "cell_type": "code",
   "execution_count": 3,
   "metadata": {},
   "outputs": [
    {
     "name": "stdout",
     "output_type": "stream",
     "text": [
      "Original string: Engineering\n",
      "String after removal of character: Enineering\n"
     ]
    }
   ],
   "source": [
    "str = \"Engineering\"\n",
    "print (\"Original string: \" + str) \n",
    "res_str = str[:2] +  str[3:] \n",
    "print (\"String after removal of character: \" + res_str) "
   ]
  },
  {
   "cell_type": "code",
   "execution_count": 5,
   "metadata": {},
   "outputs": [
    {
     "name": "stdout",
     "output_type": "stream",
     "text": [
      "1 : H\n",
      "2 : e\n",
      "3 : l\n",
      "4 : l\n",
      "5 : o\n"
     ]
    }
   ],
   "source": [
    "word=\"Hello\"\n",
    "for index,letter in enumerate(word,1):\n",
    "    print(index,\":\",letter)"
   ]
  },
  {
   "cell_type": "code",
   "execution_count": null,
   "metadata": {},
   "outputs": [],
   "source": []
  }
 ],
 "metadata": {
  "kernelspec": {
   "display_name": "Python 3",
   "language": "python",
   "name": "python3"
  },
  "language_info": {
   "codemirror_mode": {
    "name": "ipython",
    "version": 3
   },
   "file_extension": ".py",
   "mimetype": "text/x-python",
   "name": "python",
   "nbconvert_exporter": "python",
   "pygments_lexer": "ipython3",
   "version": "3.7.6"
  }
 },
 "nbformat": 4,
 "nbformat_minor": 4
}
